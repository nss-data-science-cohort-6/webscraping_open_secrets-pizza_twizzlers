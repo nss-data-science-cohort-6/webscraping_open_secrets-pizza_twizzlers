{
 "cells": [
  {
   "cell_type": "code",
   "execution_count": 15,
   "id": "d60d5b13",
   "metadata": {},
   "outputs": [],
   "source": [
    "import pandas as pd\n",
    "from bs4 import BeautifulSoup as bs\n",
    "import requests"
   ]
  },
  {
   "cell_type": "code",
   "execution_count": 16,
   "id": "5a9d5aaa",
   "metadata": {},
   "outputs": [],
   "source": [
    "URL = 'https://www.opensecrets.org/races/candidates?cycle=2020&id=TN07&spec=N'\n",
    "Response = requests.get(URL)"
   ]
  },
  {
   "cell_type": "code",
   "execution_count": 18,
   "id": "409a25a4",
   "metadata": {},
   "outputs": [
    {
     "ename": "TypeError",
     "evalue": "get() missing 1 required positional argument: 'key'",
     "output_type": "error",
     "traceback": [
      "\u001b[1;31m---------------------------------------------------------------------------\u001b[0m",
      "\u001b[1;31mTypeError\u001b[0m                                 Traceback (most recent call last)",
      "Input \u001b[1;32mIn [18]\u001b[0m, in \u001b[0;36m<cell line: 1>\u001b[1;34m()\u001b[0m\n\u001b[1;32m----> 1\u001b[0m \u001b[43mbs\u001b[49m\u001b[38;5;241;43m.\u001b[39;49m\u001b[43mget\u001b[49m\u001b[43m(\u001b[49m\u001b[38;5;124;43m'\u001b[39;49m\u001b[38;5;124;43m/html/body/div[6]/div[3]/div/div/div[1]/div[2]\u001b[39;49m\u001b[38;5;124;43m'\u001b[39;49m\u001b[43m)\u001b[49m\n",
      "\u001b[1;31mTypeError\u001b[0m: get() missing 1 required positional argument: 'key'"
     ]
    }
   ],
   "source": [
    "bs.get('/html/body/div[6]/div[3]/div/div/div[1]/div[2]')"
   ]
  },
  {
   "cell_type": "code",
   "execution_count": 11,
   "id": "f93985dd",
   "metadata": {},
   "outputs": [
    {
     "ename": "IndentationError",
     "evalue": "unindent does not match any outer indentation level (<tokenize>, line 4)",
     "output_type": "error",
     "traceback": [
      "\u001b[1;36m  File \u001b[1;32m<tokenize>:4\u001b[1;36m\u001b[0m\n\u001b[1;33m    <path d=\"M16.557,1.015 L15.719,0.178 C15.607,0.066 15.478,0.010 15.333,0.010 C15.188,0.010 15.059,0.066 14.947,0.178 L8.358,6.763 L1.769,0.178 C1.657,0.066 1.529,0.010 1.384,0.010 C1.238,0.010 1.109,0.066 0.998,0.178 L0.160,1.015 C0.048,1.127 -0.008,1.256 -0.008,1.401 C-0.008,1.546 0.048,1.675 0.160,1.786 L7.973,9.595 C8.084,9.707 8.213,9.763 8.358,9.763 C8.503,9.763 8.632,9.707 8.744,9.595 L16.557,1.786 C16.668,1.675 16.724,1.546 16.724,1.401 C16.724,1.256 16.668,1.127 16.557,1.015 L16.557,1.015 Z\"></path>\u001b[0m\n\u001b[1;37m    ^\u001b[0m\n\u001b[1;31mIndentationError\u001b[0m\u001b[1;31m:\u001b[0m unindent does not match any outer indentation level\n"
     ]
    }
   ],
   "source": [
    "<div class=\"SubNav u-mt4 u-mb4\">\n",
    "        <div class=\"SubNav-title\">\n",
    "            Districts <svg xmlns=\"http://www.w3.org/2000/svg\" xmlns:xlink=\"http://www.w3.org/1999/xlink\" preserveAspectRatio=\"xMidYMid meet\" width=\"14\" height=\"14\" viewBox=\"0 0 16.719 9.75\" focusable=\"false\" class=\"SubNav-title-icon\" role=\"presentation\" aria-hidden=\"true\">\n",
    "  <path d=\"M16.557,1.015 L15.719,0.178 C15.607,0.066 15.478,0.010 15.333,0.010 C15.188,0.010 15.059,0.066 14.947,0.178 L8.358,6.763 L1.769,0.178 C1.657,0.066 1.529,0.010 1.384,0.010 C1.238,0.010 1.109,0.066 0.998,0.178 L0.160,1.015 C0.048,1.127 -0.008,1.256 -0.008,1.401 C-0.008,1.546 0.048,1.675 0.160,1.786 L7.973,9.595 C8.084,9.707 8.213,9.763 8.358,9.763 C8.503,9.763 8.632,9.707 8.744,9.595 L16.557,1.786 C16.668,1.675 16.724,1.546 16.724,1.401 C16.724,1.256 16.668,1.127 16.557,1.015 L16.557,1.015 Z\"></path>\n",
    "</svg>\n",
    "        </div>\n",
    "    <ol class=\"SubNav-items\">\n",
    "                <li class=\"SubNav-item\">\n",
    "                    <a class=\"SubNav-link \" href=\"/races/summary?cycle=2020&amp;id=TNS2&amp;spec=N\">\n",
    "                        Tennessee Senate&nbsp;<svg class=\"svg-inline--fa fa-angle-right fa-w-8\" aria-hidden=\"true\" focusable=\"false\" data-prefix=\"fa\" data-icon=\"angle-right\" role=\"img\" xmlns=\"http://www.w3.org/2000/svg\" viewBox=\"0 0 256 512\" data-fa-i2svg=\"\"><path fill=\"currentColor\" d=\"M224.3 273l-136 136c-9.4 9.4-24.6 9.4-33.9 0l-22.6-22.6c-9.4-9.4-9.4-24.6 0-33.9l96.4-96.4-96.4-96.4c-9.4-9.4-9.4-24.6 0-33.9L54.3 103c9.4-9.4 24.6-9.4 33.9 0l136 136c9.5 9.4 9.5 24.6.1 34z\"></path></svg><!-- <i class=\"fa fa-angle-right\" aria-hidden=\"true\"></i> Font Awesome fontawesome.com -->\n",
    "</a>                </li>\n",
    "                <li class=\"SubNav-item\">\n",
    "                    <a class=\"SubNav-link \" href=\"/races/summary?cycle=2020&amp;id=TN01&amp;spec=N\">\n",
    "                        Tennessee District 01&nbsp;<svg class=\"svg-inline--fa fa-angle-right fa-w-8\" aria-hidden=\"true\" focusable=\"false\" data-prefix=\"fa\" data-icon=\"angle-right\" role=\"img\" xmlns=\"http://www.w3.org/2000/svg\" viewBox=\"0 0 256 512\" data-fa-i2svg=\"\"><path fill=\"currentColor\" d=\"M224.3 273l-136 136c-9.4 9.4-24.6 9.4-33.9 0l-22.6-22.6c-9.4-9.4-9.4-24.6 0-33.9l96.4-96.4-96.4-96.4c-9.4-9.4-9.4-24.6 0-33.9L54.3 103c9.4-9.4 24.6-9.4 33.9 0l136 136c9.5 9.4 9.5 24.6.1 34z\"></path></svg><!-- <i class=\"fa fa-angle-right\" aria-hidden=\"true\"></i> Font Awesome fontawesome.com -->\n",
    "</a>                </li>\n",
    "                <li class=\"SubNav-item\">\n",
    "                    <a class=\"SubNav-link \" href=\"/races/summary?cycle=2020&amp;id=TN02&amp;spec=N\">\n",
    "                        Tennessee District 02&nbsp;<svg class=\"svg-inline--fa fa-angle-right fa-w-8\" aria-hidden=\"true\" focusable=\"false\" data-prefix=\"fa\" data-icon=\"angle-right\" role=\"img\" xmlns=\"http://www.w3.org/2000/svg\" viewBox=\"0 0 256 512\" data-fa-i2svg=\"\"><path fill=\"currentColor\" d=\"M224.3 273l-136 136c-9.4 9.4-24.6 9.4-33.9 0l-22.6-22.6c-9.4-9.4-9.4-24.6 0-33.9l96.4-96.4-96.4-96.4c-9.4-9.4-9.4-24.6 0-33.9L54.3 103c9.4-9.4 24.6-9.4 33.9 0l136 136c9.5 9.4 9.5 24.6.1 34z\"></path></svg><!-- <i class=\"fa fa-angle-right\" aria-hidden=\"true\"></i> Font Awesome fontawesome.com -->\n",
    "</a>                </li>\n",
    "                <li class=\"SubNav-item\">\n",
    "                    <a class=\"SubNav-link \" href=\"/races/summary?cycle=2020&amp;id=TN03&amp;spec=N\">\n",
    "                        Tennessee District 03&nbsp;<svg class=\"svg-inline--fa fa-angle-right fa-w-8\" aria-hidden=\"true\" focusable=\"false\" data-prefix=\"fa\" data-icon=\"angle-right\" role=\"img\" xmlns=\"http://www.w3.org/2000/svg\" viewBox=\"0 0 256 512\" data-fa-i2svg=\"\"><path fill=\"currentColor\" d=\"M224.3 273l-136 136c-9.4 9.4-24.6 9.4-33.9 0l-22.6-22.6c-9.4-9.4-9.4-24.6 0-33.9l96.4-96.4-96.4-96.4c-9.4-9.4-9.4-24.6 0-33.9L54.3 103c9.4-9.4 24.6-9.4 33.9 0l136 136c9.5 9.4 9.5 24.6.1 34z\"></path></svg><!-- <i class=\"fa fa-angle-right\" aria-hidden=\"true\"></i> Font Awesome fontawesome.com -->\n",
    "</a>                </li>\n",
    "                <li class=\"SubNav-item\">\n",
    "                    <a class=\"SubNav-link \" href=\"/races/summary?cycle=2020&amp;id=TN04&amp;spec=N\">\n",
    "                        Tennessee District 04&nbsp;<svg class=\"svg-inline--fa fa-angle-right fa-w-8\" aria-hidden=\"true\" focusable=\"false\" data-prefix=\"fa\" data-icon=\"angle-right\" role=\"img\" xmlns=\"http://www.w3.org/2000/svg\" viewBox=\"0 0 256 512\" data-fa-i2svg=\"\"><path fill=\"currentColor\" d=\"M224.3 273l-136 136c-9.4 9.4-24.6 9.4-33.9 0l-22.6-22.6c-9.4-9.4-9.4-24.6 0-33.9l96.4-96.4-96.4-96.4c-9.4-9.4-9.4-24.6 0-33.9L54.3 103c9.4-9.4 24.6-9.4 33.9 0l136 136c9.5 9.4 9.5 24.6.1 34z\"></path></svg><!-- <i class=\"fa fa-angle-right\" aria-hidden=\"true\"></i> Font Awesome fontawesome.com -->\n",
    "</a>                </li>\n",
    "                <li class=\"SubNav-item\">\n",
    "                    <a class=\"SubNav-link \" href=\"/races/summary?cycle=2020&amp;id=TN05&amp;spec=N\">\n",
    "                        Tennessee District 05&nbsp;<svg class=\"svg-inline--fa fa-angle-right fa-w-8\" aria-hidden=\"true\" focusable=\"false\" data-prefix=\"fa\" data-icon=\"angle-right\" role=\"img\" xmlns=\"http://www.w3.org/2000/svg\" viewBox=\"0 0 256 512\" data-fa-i2svg=\"\"><path fill=\"currentColor\" d=\"M224.3 273l-136 136c-9.4 9.4-24.6 9.4-33.9 0l-22.6-22.6c-9.4-9.4-9.4-24.6 0-33.9l96.4-96.4-96.4-96.4c-9.4-9.4-9.4-24.6 0-33.9L54.3 103c9.4-9.4 24.6-9.4 33.9 0l136 136c9.5 9.4 9.5 24.6.1 34z\"></path></svg><!-- <i class=\"fa fa-angle-right\" aria-hidden=\"true\"></i> Font Awesome fontawesome.com -->\n",
    "</a>                </li>\n",
    "                <li class=\"SubNav-item\">\n",
    "                    <a class=\"SubNav-link \" href=\"/races/summary?cycle=2020&amp;id=TN06&amp;spec=N\">\n",
    "                        Tennessee District 06&nbsp;<svg class=\"svg-inline--fa fa-angle-right fa-w-8\" aria-hidden=\"true\" focusable=\"false\" data-prefix=\"fa\" data-icon=\"angle-right\" role=\"img\" xmlns=\"http://www.w3.org/2000/svg\" viewBox=\"0 0 256 512\" data-fa-i2svg=\"\"><path fill=\"currentColor\" d=\"M224.3 273l-136 136c-9.4 9.4-24.6 9.4-33.9 0l-22.6-22.6c-9.4-9.4-9.4-24.6 0-33.9l96.4-96.4-96.4-96.4c-9.4-9.4-9.4-24.6 0-33.9L54.3 103c9.4-9.4 24.6-9.4 33.9 0l136 136c9.5 9.4 9.5 24.6.1 34z\"></path></svg><!-- <i class=\"fa fa-angle-right\" aria-hidden=\"true\"></i> Font Awesome fontawesome.com -->\n",
    "</a>                </li>\n",
    "                <li class=\"SubNav-item\">\n",
    "                    <a class=\"SubNav-link SubNav-link--active\" href=\"/races/summary?cycle=2020&amp;id=TN07&amp;spec=N\">\n",
    "                        Tennessee District 07&nbsp;<svg class=\"svg-inline--fa fa-angle-right fa-w-8\" aria-hidden=\"true\" focusable=\"false\" data-prefix=\"fa\" data-icon=\"angle-right\" role=\"img\" xmlns=\"http://www.w3.org/2000/svg\" viewBox=\"0 0 256 512\" data-fa-i2svg=\"\"><path fill=\"currentColor\" d=\"M224.3 273l-136 136c-9.4 9.4-24.6 9.4-33.9 0l-22.6-22.6c-9.4-9.4-9.4-24.6 0-33.9l96.4-96.4-96.4-96.4c-9.4-9.4-9.4-24.6 0-33.9L54.3 103c9.4-9.4 24.6-9.4 33.9 0l136 136c9.5 9.4 9.5 24.6.1 34z\"></path></svg><!-- <i class=\"fa fa-angle-right\" aria-hidden=\"true\"></i> Font Awesome fontawesome.com -->\n",
    "</a>                </li>\n",
    "                <li class=\"SubNav-item\">\n",
    "                    <a class=\"SubNav-link \" href=\"/races/summary?cycle=2020&amp;id=TN08&amp;spec=N\">\n",
    "                        Tennessee District 08&nbsp;<svg class=\"svg-inline--fa fa-angle-right fa-w-8\" aria-hidden=\"true\" focusable=\"false\" data-prefix=\"fa\" data-icon=\"angle-right\" role=\"img\" xmlns=\"http://www.w3.org/2000/svg\" viewBox=\"0 0 256 512\" data-fa-i2svg=\"\"><path fill=\"currentColor\" d=\"M224.3 273l-136 136c-9.4 9.4-24.6 9.4-33.9 0l-22.6-22.6c-9.4-9.4-9.4-24.6 0-33.9l96.4-96.4-96.4-96.4c-9.4-9.4-9.4-24.6 0-33.9L54.3 103c9.4-9.4 24.6-9.4 33.9 0l136 136c9.5 9.4 9.5 24.6.1 34z\"></path></svg><!-- <i class=\"fa fa-angle-right\" aria-hidden=\"true\"></i> Font Awesome fontawesome.com -->\n",
    "</a>                </li>\n",
    "                <li class=\"SubNav-item\">\n",
    "                    <a class=\"SubNav-link \" href=\"/races/summary?cycle=2020&amp;id=TN09&amp;spec=N\">\n",
    "                        Tennessee District 09&nbsp;<svg class=\"svg-inline--fa fa-angle-right fa-w-8\" aria-hidden=\"true\" focusable=\"false\" data-prefix=\"fa\" data-icon=\"angle-right\" role=\"img\" xmlns=\"http://www.w3.org/2000/svg\" viewBox=\"0 0 256 512\" data-fa-i2svg=\"\"><path fill=\"currentColor\" d=\"M224.3 273l-136 136c-9.4 9.4-24.6 9.4-33.9 0l-22.6-22.6c-9.4-9.4-9.4-24.6 0-33.9l96.4-96.4-96.4-96.4c-9.4-9.4-9.4-24.6 0-33.9L54.3 103c9.4-9.4 24.6-9.4 33.9 0l136 136c9.5 9.4 9.5 24.6.1 34z\"></path></svg><!-- <i class=\"fa fa-angle-right\" aria-hidden=\"true\"></i> Font Awesome fontawesome.com -->\n",
    "</a>                </li>\n",
    "    </ol>\n",
    "    </div>\n"
   ]
  },
  {
   "cell_type": "code",
   "execution_count": null,
   "id": "5b96008a",
   "metadata": {},
   "outputs": [],
   "source": [
    "/html/body/div[6]/div[3]/div/div/div[1]/div[2]"
   ]
  }
 ],
 "metadata": {
  "kernelspec": {
   "display_name": "Python 3 (ipykernel)",
   "language": "python",
   "name": "python3"
  },
  "language_info": {
   "codemirror_mode": {
    "name": "ipython",
    "version": 3
   },
   "file_extension": ".py",
   "mimetype": "text/x-python",
   "name": "python",
   "nbconvert_exporter": "python",
   "pygments_lexer": "ipython3",
   "version": "3.9.12"
  }
 },
 "nbformat": 4,
 "nbformat_minor": 5
}
